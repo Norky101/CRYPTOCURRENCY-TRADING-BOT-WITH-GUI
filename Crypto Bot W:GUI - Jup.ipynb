{
 "cells": [
  {
   "cell_type": "code",
   "execution_count": 2,
   "id": "58acd38b",
   "metadata": {},
   "outputs": [],
   "source": [
    "import pandas as pd\n",
    "import cbpro\n",
    "import PySimpleGUI as sg   \n",
    "import requests\n",
    "import json\n",
    "\n",
    "api_secret = ''\n",
    "api_key =  ''\n",
    "api_pass = ''"
   ]
  },
  {
   "cell_type": "code",
   "execution_count": 3,
   "id": "b4e27df8",
   "metadata": {},
   "outputs": [],
   "source": [
    "#websocket used to listen to the live feed data e.g. price, time, etc\n",
    "class TextWebsocketClient(cbpro.WebsocketClient):\n",
    "    def on_open(self):\n",
    "        self.url           = 'wss://ws-feed-public.sandbox.pro.coinbase.com'  #connection endpoint\n",
    "        self.message_count = 0\n",
    "    \n",
    "    def on_message(self,msg):   # creates message for onscreen\n",
    "        self.message_count += 1\n",
    "        msg_type = msg.get('type',None)\n",
    "        if msg_type == 'ticker':\n",
    "            # returns a dict of keys&values.\n",
    "            # we then select the ones we want- 'time','price',ect\n",
    "            time_val   = msg.get('time',('-'*27))\n",
    "            price_val  = msg.get('price',None)\n",
    "            if price_val is not None:\n",
    "                price_val = float(price_val)\n",
    "            product_id = msg.get('product_id',None)\n",
    "            \n",
    "            print(f\"{time_val:40} {price_val:.3f} {product_id}\\tchannel type: {msg_type}\")\n",
    "    \n",
    "    def on_close(self):\n",
    "        print(f\"<---Websocket connection closed--->\\n\\tTotal messages: {self.message_count}\")\n",
    "        \n",
    "        # Could add these output prices to a database"
   ]
  },
  {
   "cell_type": "code",
   "execution_count": 4,
   "id": "3be55665",
   "metadata": {},
   "outputs": [],
   "source": [
    "# Closes after n messages or when loses connection\n",
    "stream = TextWebsocketClient(products=['ETH-BTC'],channels=['ticker'])\n",
    "stream.start()"
   ]
  },
  {
   "cell_type": "code",
   "execution_count": 5,
   "id": "6a7e4ad1",
   "metadata": {},
   "outputs": [
    {
     "name": "stdout",
     "output_type": "stream",
     "text": [
      "Stream closed\n"
     ]
    }
   ],
   "source": [
    "#stream.close()\n",
    "print (\"Stream closed\")"
   ]
  },
  {
   "cell_type": "code",
   "execution_count": 6,
   "id": "bf2f8ed8",
   "metadata": {},
   "outputs": [],
   "source": [
    "# creates client variable & allows calls/requests to the exchange via the API\n",
    "url='https://api-public.sandbox.pro.coinbase.com'\n",
    "\n",
    "client = cbpro.AuthenticatedClient(\n",
    "    api_key,\n",
    "    api_secret,\n",
    "    api_pass,\n",
    "    api_url=url\n",
    ")"
   ]
  },
  {
   "cell_type": "code",
   "execution_count": 7,
   "id": "4f284c38",
   "metadata": {},
   "outputs": [],
   "source": [
    "#Placing a BUY market order\n",
    "def buy():\n",
    "    client.place_market_order(product_id='ETH-BTC',side='buy',funds=0.00010)\n",
    "    return \"Buy Complete\"\n"
   ]
  },
  {
   "cell_type": "code",
   "execution_count": 8,
   "id": "de74ddb4",
   "metadata": {},
   "outputs": [],
   "source": [
    "def sell():\n",
    "    client.place_market_order(product_id='ETH-BTC',side='sell',funds=0.00003)\n",
    "    return \"Sell Complete\""
   ]
  },
  {
   "cell_type": "code",
   "execution_count": 9,
   "id": "b1902dae",
   "metadata": {},
   "outputs": [
    {
     "ename": "TypeError",
     "evalue": "string indices must be integers",
     "output_type": "error",
     "traceback": [
      "\u001b[0;31m---------------------------------------------------------------------------\u001b[0m",
      "\u001b[0;31mTypeError\u001b[0m                                 Traceback (most recent call last)",
      "\u001b[0;32m/var/folders/ry/9mn3lz3x1mdfjgbjfm06gqk80000gn/T/ipykernel_6244/3005623344.py\u001b[0m in \u001b[0;36m<module>\u001b[0;34m\u001b[0m\n\u001b[1;32m     15\u001b[0m \u001b[0;34m\u001b[0m\u001b[0m\n\u001b[1;32m     16\u001b[0m     \u001b[0;32mreturn\u001b[0m \u001b[0mprice\u001b[0m\u001b[0;34m\u001b[0m\u001b[0;34m\u001b[0m\u001b[0m\n\u001b[0;32m---> 17\u001b[0;31m \u001b[0maverage_price\u001b[0m\u001b[0;34m(\u001b[0m\u001b[0;34m)\u001b[0m\u001b[0;34m\u001b[0m\u001b[0;34m\u001b[0m\u001b[0m\n\u001b[0m\u001b[1;32m     18\u001b[0m \u001b[0;34m\u001b[0m\u001b[0m\n\u001b[1;32m     19\u001b[0m \u001b[0;34m\u001b[0m\u001b[0m\n",
      "\u001b[0;32m/var/folders/ry/9mn3lz3x1mdfjgbjfm06gqk80000gn/T/ipykernel_6244/3005623344.py\u001b[0m in \u001b[0;36maverage_price\u001b[0;34m()\u001b[0m\n\u001b[1;32m      8\u001b[0m \u001b[0;34m\u001b[0m\u001b[0m\n\u001b[1;32m      9\u001b[0m \u001b[0;34m\u001b[0m\u001b[0m\n\u001b[0;32m---> 10\u001b[0;31m     \u001b[0mprice\u001b[0m \u001b[0;34m=\u001b[0m \u001b[0;34m(\u001b[0m\u001b[0mbuy_data\u001b[0m\u001b[0;34m[\u001b[0m\u001b[0;34m'subtotal'\u001b[0m\u001b[0;34m]\u001b[0m\u001b[0;34m[\u001b[0m\u001b[0;34m'amount'\u001b[0m\u001b[0;34m]\u001b[0m \u001b[0;34m/\u001b[0m \u001b[0mbuy_data\u001b[0m\u001b[0;34m[\u001b[0m\u001b[0;34m'amount'\u001b[0m\u001b[0;34m]\u001b[0m\u001b[0;34m[\u001b[0m\u001b[0;34m'amount'\u001b[0m\u001b[0;34m]\u001b[0m\u001b[0;34m)\u001b[0m\u001b[0;34m\u001b[0m\u001b[0;34m\u001b[0m\u001b[0m\n\u001b[0m\u001b[1;32m     11\u001b[0m \u001b[0;34m\u001b[0m\u001b[0m\n\u001b[1;32m     12\u001b[0m     \u001b[0;31m# OR\u001b[0m\u001b[0;34m\u001b[0m\u001b[0;34m\u001b[0m\u001b[0m\n",
      "\u001b[0;31mTypeError\u001b[0m: string indices must be integers"
     ]
    }
   ],
   "source": [
    "# AVERAGE PRCIE\n",
    "# https://docs.cloud.coinbase.com/sign-in-with-coinbase/docs/api-transactions\n",
    "def average_price():\n",
    "    #average = requests.get(\"https://api.coinbase.com/v2/accounts/:account_id/transactions\").json()\n",
    "    # OR\n",
    "    \n",
    "    buy_data = 'https://api.coinbase.com/v2/accounts/:account_id/buys/:buy_id'\n",
    "    \n",
    "    \n",
    "    price = (buy_data['subtotal']['amount'] / buy_data['amount']['amount'])\n",
    "    \n",
    "    # OR\n",
    "    \n",
    "    #txs = client.get_transactions('2bbf394c-193b-5b2a-9155-3b4732659ede')\n",
    "    \n",
    "    return price\n",
    "average_price()\n",
    "\n",
    "\n",
    "# https://api.pro.coinbase.com/transfers?type=deposit\n",
    "\n",
    "# That is not my trades but the whole coinbase user base active trades"
   ]
  },
  {
   "cell_type": "code",
   "execution_count": null,
   "id": "8fba13bf",
   "metadata": {},
   "outputs": [],
   "source": [
    "# Displaying the price\n",
    "def price():\n",
    "    ticker = requests.get('https://api.pro.coinbase.com/products/ETH-USD/ticker').json()\n",
    "\n",
    "    return ticker['ask'] # return the asking price "
   ]
  },
  {
   "cell_type": "code",
   "execution_count": null,
   "id": "b3e7e438",
   "metadata": {},
   "outputs": [],
   "source": [
    "# Gets the account history\n",
    "\n",
    "accounts = client.get_accounts()\n",
    "\n",
    "for acc in accounts:\n",
    "    currency = acc.get('currency')\n",
    "    if currency=='ETH':\n",
    "        acc_id = acc.get('id')\n",
    "    \n",
    "acc_history = client.get_account_history(acc_id)"
   ]
  },
  {
   "cell_type": "code",
   "execution_count": null,
   "id": "d736969e",
   "metadata": {},
   "outputs": [],
   "source": [
    "# Should return a list of stats for 24hr, I will need to Parse this and then calculate perccent\n",
    "# https://docs.cloud.coinbase.com/exchange/reference/exchangerestapi_getproductstats\n",
    "\n",
    "# (data.last - data.open)/data.open*100  # Calculates percent change\n",
    "\n",
    "def percentage_change():\n",
    "\n",
    "    url = 'https://api.pro.coinbase.com/products/ETH-USD/stats'\n",
    "\n",
    "    headers = {\"Accept\": \"application/json\"}\n",
    "\n",
    "    response = requests.get(url, headers=headers)\n",
    "    response = response.json()\n",
    "    #print(response)  # Prints the stats\n",
    "   # print(\"-----------------\\n\")\n",
    "    \n",
    "    # conver to floats\n",
    "    openval= float(response['open'])\n",
    "    highval = float(response['high'])\n",
    "    lowval = float(response['low'])\n",
    "    lastval = float(response['last'])\n",
    "    \n",
    "    percent = (((lastval - openval ) / openval *100 ))  # percent math\n",
    "    \n",
    "    return float(round(percent, 2))  # returns percent with 2 decimal places\n",
    "\n",
    "percentage_change()"
   ]
  },
  {
   "cell_type": "code",
   "execution_count": 10,
   "id": "5f9cb7be",
   "metadata": {},
   "outputs": [
    {
     "name": "stdout",
     "output_type": "stream",
     "text": [
      "None {}\n",
      "Connection is already closed. - data: None\n",
      "<---Websocket connection closed--->\n",
      "\tTotal messages: 2\n"
     ]
    }
   ],
   "source": [
    "# GUI \n",
    "theme_name_list = sg.theme('DarkGreen')\n",
    "sg.set_options(font=(\"Courier New\", 20))\n",
    "\n",
    "#Buttons\n",
    "layout = [ \n",
    "            [sg.Text(\"Welcome to your\\nCrypto Command Center!\\n\\nSelect a command...\")],\n",
    "            [sg.Button('Buy')],\n",
    "            [sg.Button('Sell')],\n",
    "            [sg.Button('Current Price')],\n",
    "            [sg.Button('24 hr percent change')],\n",
    "            [sg.Button('Profit/Loss')],\n",
    "            [sg.Button('Exit')]\n",
    "         ]\n",
    "            \n",
    "window = sg.Window('Crypto Buy/Sell Launch Pad', layout, size = (400, 400)) # title of window\n",
    "\n",
    "# saves the actions(clicks) and the inputted values\n",
    "while True:\n",
    "    event, values = window.read()\n",
    "    print(event, values)\n",
    "    if event is None or event == \"Exit\":\n",
    "        break\n",
    "    \n",
    "    if event == \"Buy\":   # Connected to Buy Function\n",
    "        buy()\n",
    "    if event == 'Sell':\n",
    "        sell()\n",
    "    if event == 'Current Price':\n",
    "        sg.popup(price(), keep_on_top=True)\n",
    "    if event == '24 hr percent change':\n",
    "        sg.popup(percentage_change(), keep_on_top=True)\n",
    "    \n",
    "window.close()\n",
    "\n"
   ]
  },
  {
   "cell_type": "code",
   "execution_count": null,
   "id": "6af2ecc6",
   "metadata": {},
   "outputs": [],
   "source": []
  },
  {
   "cell_type": "code",
   "execution_count": null,
   "id": "37a80a3e",
   "metadata": {},
   "outputs": [],
   "source": []
  }
 ],
 "metadata": {
  "kernelspec": {
   "display_name": "Python 3 (ipykernel)",
   "language": "python",
   "name": "python3"
  },
  "language_info": {
   "codemirror_mode": {
    "name": "ipython",
    "version": 3
   },
   "file_extension": ".py",
   "mimetype": "text/x-python",
   "name": "python",
   "nbconvert_exporter": "python",
   "pygments_lexer": "ipython3",
   "version": "3.9.7"
  }
 },
 "nbformat": 4,
 "nbformat_minor": 5
}
